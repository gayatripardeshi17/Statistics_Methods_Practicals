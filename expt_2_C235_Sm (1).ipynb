{
  "nbformat": 4,
  "nbformat_minor": 0,
  "metadata": {
    "colab": {
      "private_outputs": true,
      "provenance": []
    },
    "kernelspec": {
      "name": "python3",
      "display_name": "Python 3"
    },
    "language_info": {
      "name": "python"
    }
  },
  "cells": [
    {
      "cell_type": "code",
      "execution_count": null,
      "metadata": {
        "id": "kPpSlvc8d935"
      },
      "outputs": [],
      "source": [
        "#pandas is data manupulation library\n",
        "#pandas series is like column in table\n",
        "#1D array"
      ]
    },
    {
      "cell_type": "code",
      "source": [
        "import numpy as np\n",
        "import pandas as pd"
      ],
      "metadata": {
        "id": "MuYpjDPyeo-k"
      },
      "execution_count": null,
      "outputs": []
    },
    {
      "cell_type": "code",
      "source": [
        "#series from list#list mutabAL\n",
        "#string\n",
        "country =['India','Pakisthan','USA','Nepal','Srilanka']\n",
        "pd.Series(country)"
      ],
      "metadata": {
        "id": "1qrRH8zSepB1"
      },
      "execution_count": null,
      "outputs": []
    },
    {
      "cell_type": "code",
      "source": [
        "#integer\n",
        "runs= [13,24,56,79,100]\n",
        "runs_Ser = pd.Series(runs)"
      ],
      "metadata": {
        "id": "JFfWy5H_epEc"
      },
      "execution_count": null,
      "outputs": []
    },
    {
      "cell_type": "code",
      "source": [
        "#custom index\n",
        "marks=[56,67,43,78]\n",
        "subject=['math','english','hgshasha','dghdgshd']\n",
        "pd.Series(marks,index=subject)"
      ],
      "metadata": {
        "id": "qVlb2z-RepJF"
      },
      "execution_count": null,
      "outputs": []
    },
    {
      "cell_type": "code",
      "source": [
        "#setting a name\n",
        "marks = pd.Series(marks,index=subject,name='ram ke marks')\n",
        "marks"
      ],
      "metadata": {
        "id": "5Y24gw8BepMk"
      },
      "execution_count": null,
      "outputs": []
    },
    {
      "cell_type": "code",
      "source": [
        "marks={\n",
        "    'math':45,\n",
        "    \"english\":67,\n",
        "    'science':43,\n",
        "    \"hindi\":78}\n",
        "marks_Series=pd.Series(marks,name='ram ke marks')\n",
        "marks_Series"
      ],
      "metadata": {
        "id": "0zXkN_v4epPX"
      },
      "execution_count": null,
      "outputs": []
    },
    {
      "cell_type": "code",
      "source": [
        "#size\n",
        "marks_Series.size"
      ],
      "metadata": {
        "id": "8ZHiEeHDepSu"
      },
      "execution_count": null,
      "outputs": []
    },
    {
      "cell_type": "code",
      "source": [
        "#dtype\n",
        "marks_Series.dtype"
      ],
      "metadata": {
        "id": "qiKs5FU3epVs"
      },
      "execution_count": null,
      "outputs": []
    },
    {
      "cell_type": "code",
      "source": [
        "#name\n",
        "marks_Series.name"
      ],
      "metadata": {
        "id": "A8PtwmvjepYw"
      },
      "execution_count": null,
      "outputs": []
    },
    {
      "cell_type": "code",
      "source": [
        "#is_unique\n",
        "marks_Series.is_unique\n",
        "pd.Series([1,2,3,1,2,3,5]).is_unique\n"
      ],
      "metadata": {
        "id": "5iGEAE4Ghyt4"
      },
      "execution_count": null,
      "outputs": []
    },
    {
      "cell_type": "code",
      "source": [
        "#index\n",
        "marks_Series.index\n"
      ],
      "metadata": {
        "id": "xDvkQzBuh4IA"
      },
      "execution_count": null,
      "outputs": []
    },
    {
      "cell_type": "code",
      "source": [
        "#value\n",
        "marks_Series.values"
      ],
      "metadata": {
        "id": "G_kx50Jvh4K4"
      },
      "execution_count": null,
      "outputs": []
    },
    {
      "cell_type": "code",
      "source": [],
      "metadata": {
        "id": "4NuPVO1Hh4Ox"
      },
      "execution_count": null,
      "outputs": []
    },
    {
      "cell_type": "markdown",
      "source": [
        "Series using read_csv\n"
      ],
      "metadata": {
        "id": "70VURB0Ji-nh"
      }
    },
    {
      "cell_type": "code",
      "source": [
        "#with one col\n",
        "subs=pd.read_csv('subs.csv',squeeze=True)\n",
        "subs"
      ],
      "metadata": {
        "id": "vqa5tWSGhywr"
      },
      "execution_count": null,
      "outputs": []
    },
    {
      "cell_type": "code",
      "source": [
        "#with one col\n",
        "subs=pd.read_csv('subs.csv',squeeze=False)\n",
        "subs"
      ],
      "metadata": {
        "id": "IL4v_PGbhyzn"
      },
      "execution_count": null,
      "outputs": []
    },
    {
      "cell_type": "code",
      "source": [
        "#with two col\n",
        "vk=pd.read_csv('/content/kohli_ipl.csv',index_col='match_no',squeeze=True)\n",
        "vk"
      ],
      "metadata": {
        "id": "Pk0Z6oQNhy2a"
      },
      "execution_count": null,
      "outputs": []
    },
    {
      "cell_type": "code",
      "source": [
        "vk.size"
      ],
      "metadata": {
        "id": "GPzR1OIHkWsP"
      },
      "execution_count": null,
      "outputs": []
    },
    {
      "cell_type": "code",
      "source": [
        "vk.index"
      ],
      "metadata": {
        "id": "PlK2EUD3kWvV"
      },
      "execution_count": null,
      "outputs": []
    },
    {
      "cell_type": "code",
      "source": [
        "vk.values"
      ],
      "metadata": {
        "id": "RqUqvQdykWyX"
      },
      "execution_count": null,
      "outputs": []
    },
    {
      "cell_type": "code",
      "source": [
        "movies=pd.read_csv('/content/bollywood.csv',index_col='movie',squeeze=True)\n",
        "movies"
      ],
      "metadata": {
        "id": "VTG-6rjRkW3J"
      },
      "execution_count": null,
      "outputs": []
    },
    {
      "cell_type": "code",
      "source": [
        "movies.size"
      ],
      "metadata": {
        "id": "zCNlJ-kJhy8J"
      },
      "execution_count": null,
      "outputs": []
    },
    {
      "cell_type": "code",
      "source": [
        "movies.values"
      ],
      "metadata": {
        "id": "epx25rdVhy_g"
      },
      "execution_count": null,
      "outputs": []
    },
    {
      "cell_type": "code",
      "source": [
        "movies.index"
      ],
      "metadata": {
        "id": "2RLkqpX1epdj"
      },
      "execution_count": null,
      "outputs": []
    },
    {
      "cell_type": "code",
      "source": [
        "#head and tail\n",
        "movies.head()"
      ],
      "metadata": {
        "id": "On-e2PGQephm"
      },
      "execution_count": null,
      "outputs": []
    },
    {
      "cell_type": "code",
      "source": [
        "movies.tail()"
      ],
      "metadata": {
        "id": "LzS92TlKmKHD"
      },
      "execution_count": null,
      "outputs": []
    },
    {
      "cell_type": "code",
      "source": [
        "#samples\n",
        "movies.sample()"
      ],
      "metadata": {
        "id": "4EsLNHkGmKKU"
      },
      "execution_count": null,
      "outputs": []
    },
    {
      "cell_type": "code",
      "source": [
        "movies.sample()"
      ],
      "metadata": {
        "id": "Awlbgi4XmKNT"
      },
      "execution_count": null,
      "outputs": []
    },
    {
      "cell_type": "code",
      "source": [
        "movies.sample()\n",
        "\n"
      ],
      "metadata": {
        "id": "BnWAlmbWmKQl"
      },
      "execution_count": null,
      "outputs": []
    },
    {
      "cell_type": "code",
      "source": [
        "movies.value_counts()"
      ],
      "metadata": {
        "id": "sUOlk0iBmKTk"
      },
      "execution_count": null,
      "outputs": []
    },
    {
      "cell_type": "code",
      "source": [
        "#sort_values ===inplace\n",
        "vk.sort_values(ascending=False).head(1).values[0]"
      ],
      "metadata": {
        "id": "U8Co2y8Wm2mC"
      },
      "execution_count": null,
      "outputs": []
    },
    {
      "cell_type": "code",
      "source": [
        "vk.sort_values(ascending=True).head(1).values[0]"
      ],
      "metadata": {
        "id": "ny6W2ox2m2ph"
      },
      "execution_count": null,
      "outputs": []
    },
    {
      "cell_type": "code",
      "source": [
        "subs.sort_values( by='Subscribers gained',ascending=False).head(1).values[0]#head(1)means top 1 record"
      ],
      "metadata": {
        "id": "2dgyKcTam2tE"
      },
      "execution_count": null,
      "outputs": []
    },
    {
      "cell_type": "code",
      "source": [
        "movies.sort_index(ascending=False,inplace=True)\n",
        "movies"
      ],
      "metadata": {
        "id": "XuGXwFTtm2wd"
      },
      "execution_count": null,
      "outputs": []
    },
    {
      "cell_type": "code",
      "source": [
        "subs.sum()"
      ],
      "metadata": {
        "id": "MLOL29hCm2z9"
      },
      "execution_count": null,
      "outputs": []
    },
    {
      "cell_type": "code",
      "source": [
        "#mean meadian mode std var\n",
        "subs.mean()\n",
        "print(vk.median())\n",
        "print(movies.mode())\n",
        "print(subs.std())\n",
        "print(vk.var())"
      ],
      "metadata": {
        "id": "Qim3_QA7m24Q"
      },
      "execution_count": null,
      "outputs": []
    },
    {
      "cell_type": "code",
      "source": [
        "#slicing\n",
        "vk[5:16]"
      ],
      "metadata": {
        "id": "ASXdKtz1mKXL"
      },
      "execution_count": null,
      "outputs": []
    },
    {
      "cell_type": "code",
      "source": [
        "subs[5:16]"
      ],
      "metadata": {
        "id": "uhI6W2aLrYGD"
      },
      "execution_count": null,
      "outputs": []
    },
    {
      "cell_type": "code",
      "source": [
        "vk[-5:]"
      ],
      "metadata": {
        "id": "ulmPWwaNrYJT"
      },
      "execution_count": null,
      "outputs": []
    },
    {
      "cell_type": "code",
      "source": [
        "movies[::2]"
      ],
      "metadata": {
        "id": "OJZiXoeJrYL9"
      },
      "execution_count": null,
      "outputs": []
    },
    {
      "cell_type": "code",
      "source": [
        "#fancy indexing\n",
        "vk[[1,2,3,4]]"
      ],
      "metadata": {
        "id": "q2ic8qTUrYOs"
      },
      "execution_count": null,
      "outputs": []
    },
    {
      "cell_type": "code",
      "source": [
        "#indexing with labels-- fancy indexing\n",
        "movies['2 Zindagi Tere Naam ']"
      ],
      "metadata": {
        "id": "kLV7tGphrYTk"
      },
      "execution_count": null,
      "outputs": []
    },
    {
      "cell_type": "code",
      "source": [
        "#adding new index\n",
        "marks_Series['evs']=100\n",
        "marks_Series"
      ],
      "metadata": {
        "id": "ckGCAxMOmKaa"
      },
      "execution_count": null,
      "outputs": []
    },
    {
      "cell_type": "code",
      "source": [
        "#arithematic oprators\n",
        "100+ marks_Series"
      ],
      "metadata": {
        "id": "VhADj0gbmKeE"
      },
      "execution_count": null,
      "outputs": []
    },
    {
      "cell_type": "code",
      "source": [
        "10-marks_Series"
      ],
      "metadata": {
        "id": "jbJrwTkZmKhd"
      },
      "execution_count": null,
      "outputs": []
    },
    {
      "cell_type": "code",
      "source": [
        "#relatinal_ opreator\n",
        "vk>=50"
      ],
      "metadata": {
        "id": "lWhyWlgetMJm"
      },
      "execution_count": null,
      "outputs": []
    },
    {
      "cell_type": "code",
      "source": [
        "subs <=30"
      ],
      "metadata": {
        "id": "DKE4GHYOtR7O"
      },
      "execution_count": null,
      "outputs": []
    },
    {
      "cell_type": "code",
      "source": [],
      "metadata": {
        "id": "p_xj7ie7tUkn"
      },
      "execution_count": null,
      "outputs": []
    },
    {
      "cell_type": "markdown",
      "source": [
        "boolean indexing on series\n"
      ],
      "metadata": {
        "id": "R2-ySwE3tpcB"
      }
    },
    {
      "cell_type": "code",
      "source": [
        "#find no of 50's and 100 scored by kohli\n",
        "vk[vk>=50].size"
      ],
      "metadata": {
        "id": "7Cg3PTGftarw"
      },
      "execution_count": null,
      "outputs": []
    },
    {
      "cell_type": "code",
      "source": [
        "#find number of duks\n",
        "vk[vk==0].size"
      ],
      "metadata": {
        "id": "vVWvWIPttaug"
      },
      "execution_count": null,
      "outputs": []
    },
    {
      "cell_type": "code",
      "source": [
        "#count number of day when"
      ],
      "metadata": {
        "id": "nSu5OKkmtax_"
      },
      "execution_count": null,
      "outputs": []
    },
    {
      "cell_type": "code",
      "source": [
        "#when we count greater than 20\n",
        "num_movies=movies.value_counts()\n",
        "num_movies[num_movies>20]"
      ],
      "metadata": {
        "id": "ezL-XDewtYV-"
      },
      "execution_count": null,
      "outputs": []
    },
    {
      "cell_type": "code",
      "source": [
        "subs.plot()"
      ],
      "metadata": {
        "id": "e_XQPoBiuNMk"
      },
      "execution_count": null,
      "outputs": []
    },
    {
      "cell_type": "code",
      "source": [
        "vk.plot()"
      ],
      "metadata": {
        "id": "8aDcRHGzuNPc"
      },
      "execution_count": null,
      "outputs": []
    },
    {
      "cell_type": "code",
      "source": [
        "movies.plot()"
      ],
      "metadata": {
        "id": "92gslMP6uNST"
      },
      "execution_count": null,
      "outputs": []
    },
    {
      "cell_type": "code",
      "source": [
        "movies.value_counts().head(20).plot(kind='pie')"
      ],
      "metadata": {
        "id": "19QDTHTauNVS"
      },
      "execution_count": null,
      "outputs": []
    },
    {
      "cell_type": "code",
      "source": [
        "#astype\n",
        "import sys\n",
        "sys.getsizeof(vk)"
      ],
      "metadata": {
        "id": "45waaETNuNYR"
      },
      "execution_count": null,
      "outputs": []
    },
    {
      "cell_type": "code",
      "source": [
        "sys.getsizeof(vk.astype('int16'))"
      ],
      "metadata": {
        "id": "jkq2f3KWvg-U"
      },
      "execution_count": null,
      "outputs": []
    },
    {
      "cell_type": "code",
      "source": [
        "#between\n",
        "vk[vk.between(51,99)].size"
      ],
      "metadata": {
        "id": "Swdh5tRtvhBj"
      },
      "execution_count": null,
      "outputs": []
    },
    {
      "cell_type": "code",
      "source": [
        "subs.clip(100,200)"
      ],
      "metadata": {
        "id": "XCoki7omvhH8"
      },
      "execution_count": null,
      "outputs": []
    },
    {
      "cell_type": "code",
      "source": [
        "#drop duplicates\n",
        "temp=pd.Series[(1,2,4,5,6,6,8,8,8)]\n",
        "temp.drop_duplicates(keep='last')"
      ],
      "metadata": {
        "id": "X_dPUFr5v9C0"
      },
      "execution_count": null,
      "outputs": []
    },
    {
      "cell_type": "code",
      "source": [
        "temp.duplicayted().sum()"
      ],
      "metadata": {
        "id": "CSIVtDppv9GP"
      },
      "execution_count": null,
      "outputs": []
    },
    {
      "cell_type": "code",
      "source": [
        "#dropna\n",
        "vk.dropna"
      ],
      "metadata": {
        "id": "QcUDlSZqv9JI"
      },
      "execution_count": null,
      "outputs": []
    },
    {
      "cell_type": "code",
      "source": [
        "#fillna\n",
        "vk.fillna(vk.mean())"
      ],
      "metadata": {
        "id": "9c66liwQv9MA"
      },
      "execution_count": null,
      "outputs": []
    },
    {
      "cell_type": "code",
      "source": [
        "fillna"
      ],
      "metadata": {
        "id": "siHZ6_Rcv9Pl"
      },
      "execution_count": null,
      "outputs": []
    },
    {
      "cell_type": "code",
      "source": [
        "#apply"
      ],
      "metadata": {
        "id": "nRecT7WZvhMv"
      },
      "execution_count": null,
      "outputs": []
    },
    {
      "cell_type": "code",
      "source": [],
      "metadata": {
        "id": "dP8s1FdBxUyv"
      },
      "execution_count": null,
      "outputs": []
    },
    {
      "cell_type": "code",
      "source": [],
      "metadata": {
        "id": "AsaKuugVxU1t"
      },
      "execution_count": null,
      "outputs": []
    },
    {
      "cell_type": "code",
      "source": [],
      "metadata": {
        "id": "MMJJiUrkxU6N"
      },
      "execution_count": null,
      "outputs": []
    },
    {
      "cell_type": "code",
      "source": [],
      "metadata": {
        "id": "vJ--tlkdxU-1"
      },
      "execution_count": null,
      "outputs": []
    }
  ]
}